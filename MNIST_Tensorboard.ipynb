{
 "cells": [
  {
   "cell_type": "code",
   "execution_count": 13,
   "metadata": {
    "collapsed": true
   },
   "outputs": [],
   "source": [
    "import tensorflow as tf\n",
    "from tensorflow.examples.tutorials.mnist import input_data"
   ]
  },
  {
   "cell_type": "code",
   "execution_count": 14,
   "metadata": {},
   "outputs": [
    {
     "name": "stdout",
     "output_type": "stream",
     "text": [
      "Extracting MNIST_data/train-images-idx3-ubyte.gz\n",
      "Extracting MNIST_data/train-labels-idx1-ubyte.gz\n",
      "Extracting MNIST_data/t10k-images-idx3-ubyte.gz\n",
      "Extracting MNIST_data/t10k-labels-idx1-ubyte.gz\n"
     ]
    }
   ],
   "source": [
    "mnist = input_data.read_data_sets(\"MNIST_data/\", one_hot=True)"
   ]
  },
  {
   "cell_type": "code",
   "execution_count": 15,
   "metadata": {
    "collapsed": true
   },
   "outputs": [],
   "source": [
    "def conv_layer(input,channels_in,channels_out,name =\"conv\"):\n",
    "    with tf.name_scope(name):\n",
    "        w = tf.Variable(tf.truncated_normal([5,5,channels_in,channels_out] ,stddev=0.1),name =\"W\")\n",
    "        b = tf.Variable(tf.constant(0.1,shape= [channels_out]),name =\"B\")\n",
    "        conv = tf.nn.conv2d(input,w,strides = [1,1,1,1],padding=\"SAME\")\n",
    "        act = tf.nn.relu(conv+b)\n",
    "        tf.summary.histogram(\"weights\",w)\n",
    "        tf.summary.histogram(\"biases\",b)\n",
    "        tf.summary.histogram(\"activations\",act)\n",
    "\n",
    "        return act"
   ]
  },
  {
   "cell_type": "code",
   "execution_count": 16,
   "metadata": {
    "collapsed": true
   },
   "outputs": [],
   "source": [
    "def fc_layer(input,channels_in,channels_out,name =\"fc\"):\n",
    "    with tf.name_scope(name):\n",
    "        w = tf.Variable(tf.truncated_normal([channels_in,channels_out],stddev=0.1),name =\"W\")\n",
    "        b = tf.Variable(tf.constant(0.1,shape=[channels_out]),name=\"B\")\n",
    "        act = tf.nn.relu(tf.matmul(input,w) + b)\n",
    "\n",
    "        return act"
   ]
  },
  {
   "cell_type": "code",
   "execution_count": 17,
   "metadata": {},
   "outputs": [
    {
     "name": "stdout",
     "output_type": "stream",
     "text": [
      "step 0 ,training accuracy 0.15\n",
      "step 500 ,training accuracy 0.1\n",
      "step 1000 ,training accuracy 0.09\n",
      "step 1500 ,training accuracy 0.08\n",
      "step 2000 ,training accuracy 0.07\n",
      "step 2500 ,training accuracy 0.06\n",
      "step 3000 ,training accuracy 0.13\n",
      "step 3500 ,training accuracy 0.02\n",
      "step 4000 ,training accuracy 0.28\n",
      "step 4500 ,training accuracy 0.35\n",
      "step 5000 ,training accuracy 0.39\n",
      "step 5500 ,training accuracy 0.5\n",
      "step 6000 ,training accuracy 0.57\n",
      "step 6500 ,training accuracy 0.62\n",
      "step 7000 ,training accuracy 0.65\n",
      "step 7500 ,training accuracy 0.56\n",
      "step 8000 ,training accuracy 0.59\n",
      "step 8500 ,training accuracy 0.52\n",
      "step 9000 ,training accuracy 0.55\n",
      "step 9500 ,training accuracy 0.61\n",
      "step 10000 ,training accuracy 0.57\n",
      "step 10500 ,training accuracy 0.59\n",
      "step 11000 ,training accuracy 0.58\n",
      "step 11500 ,training accuracy 0.74\n",
      "step 12000 ,training accuracy 0.66\n",
      "step 12500 ,training accuracy 0.63\n",
      "step 13000 ,training accuracy 0.6\n",
      "step 13500 ,training accuracy 0.59\n",
      "step 14000 ,training accuracy 0.6\n",
      "step 14500 ,training accuracy 0.66\n",
      "step 15000 ,training accuracy 0.64\n",
      "step 15500 ,training accuracy 0.64\n",
      "step 16000 ,training accuracy 0.58\n",
      "step 16500 ,training accuracy 0.6\n",
      "step 17000 ,training accuracy 0.62\n",
      "step 17500 ,training accuracy 0.55\n",
      "step 18000 ,training accuracy 0.6\n",
      "step 18500 ,training accuracy 0.48\n",
      "step 19000 ,training accuracy 0.63\n",
      "step 19500 ,training accuracy 0.57\n"
     ]
    }
   ],
   "source": [
    "tf.reset_default_graph()\n",
    "\n",
    "x = tf.placeholder(tf.float32,shape=[None,784],name=\"x\")\n",
    "y = tf.placeholder(tf.float32,shape=[None,10],name=\"labels\")\n",
    "x_image = tf.reshape(x,[-1,28,28,1])\n",
    "tf.summary.image('input',x_image,3)\n",
    "\n",
    "conv1 = conv_layer(x_image,1,32,\"conv1\")\n",
    "pool1 = tf.nn.max_pool(conv1,ksize=[1,2,2,1],strides=[1,2,2,1],padding=\"SAME\")\n",
    "\n",
    "conv2 = conv_layer(pool1,32,64,\"conv2\")\n",
    "pool2 = tf.nn.max_pool(conv2,ksize=[1,2,2,1],strides=[1,2,2,1],padding=\"SAME\")\n",
    "flattened = tf.reshape(pool2,[-1,7*7*64])\n",
    "\n",
    "fc1 = fc_layer(flattened,7*7*64,1024,\"fc1\")\n",
    "logits = fc_layer(fc1,1024,10,\"fc2\")\n",
    "\n",
    "with tf.name_scope(\"cross_entropy\"):\n",
    "    cross_entropy = tf.reduce_mean(tf.nn.softmax_cross_entropy_with_logits(logits=logits,labels=y))\n",
    "    tf.summary.scalar('cross_entropy',cross_entropy)\n",
    "    \n",
    "with tf.name_scope(\"train\"):\n",
    "    train_step = tf.train.AdamOptimizer(1e-4).minimize(cross_entropy)\n",
    "\n",
    "with tf.name_scope(\"accuracy\"):\n",
    "    correct_prediction = tf.equal(tf.argmax(logits,1),tf.argmax(y,1))\n",
    "    accuracy = tf.reduce_mean(tf.cast(correct_prediction,tf.float32))\n",
    "    tf.summary.scalar(\"accuracy\",accuracy)\n",
    "    \n",
    "with tf.Session() as sess:\n",
    "    merged_summary =  tf.summary.merge_all()\n",
    "    writer = tf.summary.FileWriter(\"/tmp/mnist_demo/2\")\n",
    "    writer.add_graph(sess.graph)\n",
    "    sess.run(tf.global_variables_initializer())\n",
    "\n",
    "    for i in range(20000):\n",
    "        batch = mnist.train.next_batch(100)\n",
    "\n",
    "        if i % 500 == 0:\n",
    "            [train_accuracy] = sess.run([accuracy],feed_dict =  {x:batch[0] , y:batch[1]})\n",
    "            summary = sess.run(merged_summary , feed_dict={x:batch[0],y:batch[1]})\n",
    "            print(\"step %d ,training accuracy %g\" % (i,train_accuracy))\n",
    "            writer.add_summary(summary,i)\n",
    "\n",
    "        sess.run(train_step,feed_dict = {x:batch[0],y:batch[1]})"
   ]
  },
  {
   "cell_type": "markdown",
   "metadata": {},
   "source": [
    "Launch tensorboard passing --logdir <path used in FileWriter> :\n",
    "tensorboard --logdir /tmp/mnist_demo/2"
   ]
  },
  {
   "cell_type": "code",
   "execution_count": null,
   "metadata": {
    "collapsed": true
   },
   "outputs": [],
   "source": []
  }
 ],
 "metadata": {
  "kernelspec": {
   "display_name": "Python 3",
   "language": "python",
   "name": "python3"
  },
  "language_info": {
   "codemirror_mode": {
    "name": "ipython",
    "version": 3
   },
   "file_extension": ".py",
   "mimetype": "text/x-python",
   "name": "python",
   "nbconvert_exporter": "python",
   "pygments_lexer": "ipython3",
   "version": "3.6.1"
  }
 },
 "nbformat": 4,
 "nbformat_minor": 2
}
