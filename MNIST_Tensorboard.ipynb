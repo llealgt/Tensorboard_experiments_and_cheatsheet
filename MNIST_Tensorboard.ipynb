{
 "cells": [
  {
   "cell_type": "code",
   "execution_count": 4,
   "metadata": {
    "collapsed": true
   },
   "outputs": [],
   "source": [
    "import tensorflow as tf\n",
    "from tensorflow.examples.tutorials.mnist import input_data"
   ]
  },
  {
   "cell_type": "code",
   "execution_count": 5,
   "metadata": {},
   "outputs": [
    {
     "name": "stdout",
     "output_type": "stream",
     "text": [
      "Successfully downloaded train-images-idx3-ubyte.gz 9912422 bytes.\n",
      "Extracting MNIST_data/train-images-idx3-ubyte.gz\n",
      "Successfully downloaded train-labels-idx1-ubyte.gz 28881 bytes.\n",
      "Extracting MNIST_data/train-labels-idx1-ubyte.gz\n",
      "Successfully downloaded t10k-images-idx3-ubyte.gz 1648877 bytes.\n",
      "Extracting MNIST_data/t10k-images-idx3-ubyte.gz\n",
      "Successfully downloaded t10k-labels-idx1-ubyte.gz 4542 bytes.\n",
      "Extracting MNIST_data/t10k-labels-idx1-ubyte.gz\n"
     ]
    }
   ],
   "source": [
    "mnist = input_data.read_data_sets(\"MNIST_data/\", one_hot=True)"
   ]
  },
  {
   "cell_type": "code",
   "execution_count": 28,
   "metadata": {
    "collapsed": true
   },
   "outputs": [],
   "source": [
    "def conv_layer(input,channels_in,channels_out,name =\"conv\"):\n",
    "    with tf.name_scope(name):\n",
    "        w = tf.Variable(tf.zeros([5,5,channels_in,channels_out]),name =\"W\")\n",
    "        b = tf.Variable(tf.zeros([channels_out]),name =\"B\")\n",
    "        conv = tf.nn.conv2d(input,w,strides = [1,1,1,1],padding=\"SAME\")\n",
    "        act = tf.nn.relu(conv+b)\n",
    "        tf.summary.histogram(\"weights\",w)\n",
    "        tf.summary.histogram(\"biases\",b)\n",
    "        tf.summary.histogram(\"activations\",act)\n",
    "\n",
    "        return act"
   ]
  },
  {
   "cell_type": "code",
   "execution_count": 19,
   "metadata": {
    "collapsed": true
   },
   "outputs": [],
   "source": [
    "def fc_layer(input,channels_in,channels_out,name =\"fc\"):\n",
    "    with tf.name_scope(name):\n",
    "        w = tf.Variable(tf.zeros([channels_in,channels_out]),name =\"W\")\n",
    "        b = tf.Variable(tf.zeros([channels_out]),name=\"B\")\n",
    "        act = tf.nn.relu(tf.matmul(input,w) + b)\n",
    "\n",
    "        return act"
   ]
  },
  {
   "cell_type": "code",
   "execution_count": 27,
   "metadata": {},
   "outputs": [
    {
     "name": "stdout",
     "output_type": "stream",
     "text": [
      "step 0 ,training accuracy 0.09\n",
      "step 500 ,training accuracy 0.08\n",
      "step 1000 ,training accuracy 0.11\n",
      "step 1500 ,training accuracy 0.07\n"
     ]
    }
   ],
   "source": [
    "tf.reset_default_graph()\n",
    "\n",
    "x = tf.placeholder(tf.float32,shape=[None,784],name=\"x\")\n",
    "y = tf.placeholder(tf.float32,shape=[None,10],name=\"labels\")\n",
    "x_image = tf.reshape(x,[-1,28,28,1])\n",
    "tf.summary.image('input',x_image,3)\n",
    "\n",
    "conv1 = conv_layer(x_image,1,32,\"conv1\")\n",
    "pool1 = tf.nn.max_pool(conv1,ksize=[1,2,2,1],strides=[1,2,2,1],padding=\"SAME\")\n",
    "\n",
    "conv2 = conv_layer(pool1,32,64,\"conv2\")\n",
    "pool2 = tf.nn.max_pool(conv2,ksize=[1,2,2,1],strides=[1,2,2,1],padding=\"SAME\")\n",
    "flattened = tf.reshape(pool2,[-1,7*7*64])\n",
    "\n",
    "fc1 = fc_layer(flattened,7*7*64,1024,\"fc1\")\n",
    "logits = fc_layer(fc1,1024,10,\"fc2\")\n",
    "\n",
    "with tf.name_scope(\"cross_entropy\"):\n",
    "    cross_entropy = tf.reduce_mean(tf.nn.softmax_cross_entropy_with_logits(logits=logits,labels=y))\n",
    "    tf.summary.scalar('cross_entropy',cross_entropy)\n",
    "    \n",
    "with tf.name_scope(\"train\"):\n",
    "    train_step = tf.train.AdamOptimizer(1e-4).minimize(cross_entropy)\n",
    "\n",
    "with tf.name_scope(\"accuracy\"):\n",
    "    correct_prediction = tf.equal(tf.argmax(logits,1),tf.argmax(y,1))\n",
    "    accuracy = tf.reduce_mean(tf.cast(correct_prediction,tf.float32))\n",
    "    tf.summary.scalar(\"accuracy\",accuracy)\n",
    "    \n",
    "with tf.Session() as sess:\n",
    "    writer = tf.summary.FileWriter(\"/tmp/mnist_demo/2\")\n",
    "    writer.add_graph(sess.graph)\n",
    "    sess.run(tf.global_variables_initializer())\n",
    "\n",
    "    for i in range(2000):\n",
    "        batch = mnist.train.next_batch(100)\n",
    "\n",
    "        if i % 500 == 0:\n",
    "            [train_accuracy] = sess.run([accuracy],feed_dict =  {x:batch[0] , y:batch[1]})\n",
    "            print(\"step %d ,training accuracy %g\" % (i,train_accuracy))\n",
    "\n",
    "        sess.run(train_step,feed_dict = {x:batch[0],y:batch[1]})"
   ]
  },
  {
   "cell_type": "markdown",
   "metadata": {},
   "source": [
    "Launch tensorboard passing --logdir <path used in FileWriter>:\n",
    "tensorboard --logdir /tmp/mnist_demo/2"
   ]
  },
  {
   "cell_type": "code",
   "execution_count": null,
   "metadata": {
    "collapsed": true
   },
   "outputs": [],
   "source": []
  }
 ],
 "metadata": {
  "kernelspec": {
   "display_name": "Python 3",
   "language": "python",
   "name": "python3"
  },
  "language_info": {
   "codemirror_mode": {
    "name": "ipython",
    "version": 3
   },
   "file_extension": ".py",
   "mimetype": "text/x-python",
   "name": "python",
   "nbconvert_exporter": "python",
   "pygments_lexer": "ipython3",
   "version": "3.6.1"
  }
 },
 "nbformat": 4,
 "nbformat_minor": 2
}
